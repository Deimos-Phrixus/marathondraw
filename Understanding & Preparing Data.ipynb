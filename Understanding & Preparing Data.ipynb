{
 "cells": [
  {
   "cell_type": "code",
   "execution_count": 2,
   "metadata": {},
   "outputs": [],
   "source": [
    "import numpy as np\n",
    "import pandas as pd\n",
    "from matplotlib import pyplot as plt\n",
    "import os\n",
    "import sys"
   ]
  },
  {
   "cell_type": "code",
   "execution_count": 3,
   "metadata": {},
   "outputs": [
    {
     "data": {
      "text/plain": [
       "['aircraft carrier.npy',\n",
       " 'airplane.npy',\n",
       " 'alarm clock.npy',\n",
       " 'ambulance.npy',\n",
       " 'angel.npy',\n",
       " 'animal migration.npy',\n",
       " 'ant.npy',\n",
       " 'anvil.npy',\n",
       " 'apple.npy',\n",
       " 'arm.npy',\n",
       " 'asparagus.npy',\n",
       " 'axe.npy',\n",
       " 'backpack.npy',\n",
       " 'banana.npy',\n",
       " 'bandage.npy',\n",
       " 'barn.npy',\n",
       " 'baseball bat.npy',\n",
       " 'baseball.npy',\n",
       " 'basket.npy',\n",
       " 'basketball.npy',\n",
       " 'bat.npy',\n",
       " 'bathtub.npy',\n",
       " 'beach.npy',\n",
       " 'bear.npy',\n",
       " 'beard.npy',\n",
       " 'bed.npy',\n",
       " 'bee.npy',\n",
       " 'belt.npy',\n",
       " 'bench.npy',\n",
       " 'bicycle.npy',\n",
       " 'binoculars.npy',\n",
       " 'bird.npy',\n",
       " 'birthday cake.npy',\n",
       " 'blackberry.npy',\n",
       " 'blueberry.npy',\n",
       " 'book.npy',\n",
       " 'boomerang.npy',\n",
       " 'bottlecap.npy',\n",
       " 'bowtie.npy',\n",
       " 'bracelet.npy',\n",
       " 'brain.npy',\n",
       " 'bread.npy',\n",
       " 'bridge.npy',\n",
       " 'broccoli.npy',\n",
       " 'broom.npy',\n",
       " 'bucket.npy',\n",
       " 'bulldozer.npy',\n",
       " 'bus.npy',\n",
       " 'bush.npy',\n",
       " 'butterfly.npy',\n",
       " 'cactus.npy',\n",
       " 'cake.npy',\n",
       " 'calculator.npy',\n",
       " 'calendar.npy',\n",
       " 'camel.npy',\n",
       " 'camera.npy',\n",
       " 'camouflage.npy',\n",
       " 'campfire.npy',\n",
       " 'candle.npy',\n",
       " 'cannon.npy',\n",
       " 'canoe.npy',\n",
       " 'car.npy',\n",
       " 'carrot.npy',\n",
       " 'castle.npy',\n",
       " 'cat.npy',\n",
       " 'ceiling fan.npy',\n",
       " 'cell phone.npy',\n",
       " 'cello.npy',\n",
       " 'chair.npy',\n",
       " 'chandelier.npy',\n",
       " 'church.npy',\n",
       " 'circle.npy',\n",
       " 'clarinet.npy',\n",
       " 'clock.npy',\n",
       " 'cloud.npy',\n",
       " 'coffee cup.npy',\n",
       " 'compass.npy',\n",
       " 'computer.npy',\n",
       " 'cookie.npy',\n",
       " 'cooler.npy',\n",
       " 'couch.npy',\n",
       " 'cow.npy',\n",
       " 'crab.npy',\n",
       " 'crayon.npy',\n",
       " 'crocodile.npy',\n",
       " 'crown.npy',\n",
       " 'cruise ship.npy',\n",
       " 'cup.npy',\n",
       " 'diamond.npy',\n",
       " 'dishwasher.npy',\n",
       " 'diving board.npy',\n",
       " 'dog.npy',\n",
       " 'dolphin.npy',\n",
       " 'donut.npy',\n",
       " 'door.npy',\n",
       " 'dragon.npy',\n",
       " 'dresser.npy',\n",
       " 'drill.npy',\n",
       " 'drums.npy',\n",
       " 'duck.npy',\n",
       " 'dumbbell.npy',\n",
       " 'ear.npy',\n",
       " 'elbow.npy',\n",
       " 'elephant.npy',\n",
       " 'envelope.npy',\n",
       " 'eraser.npy',\n",
       " 'eye.npy',\n",
       " 'eyeglasses.npy',\n",
       " 'face.npy',\n",
       " 'fan.npy',\n",
       " 'feather.npy',\n",
       " 'fence.npy',\n",
       " 'finger.npy',\n",
       " 'fire hydrant.npy',\n",
       " 'fireplace.npy',\n",
       " 'firetruck.npy',\n",
       " 'fish.npy',\n",
       " 'flamingo.npy',\n",
       " 'flashlight.npy',\n",
       " 'flip flops.npy',\n",
       " 'floor lamp.npy',\n",
       " 'flower.npy',\n",
       " 'flying saucer.npy',\n",
       " 'foot.npy',\n",
       " 'fork.npy',\n",
       " 'frog.npy',\n",
       " 'frying pan.npy',\n",
       " 'full',\n",
       " 'full_numpy_bitmap_angel.npy',\n",
       " 'garden hose.npy',\n",
       " 'garden.npy',\n",
       " 'giraffe.npy',\n",
       " 'goatee.npy',\n",
       " 'golf club.npy',\n",
       " 'grapes.npy',\n",
       " 'grass.npy',\n",
       " 'guitar.npy',\n",
       " 'hamburger.npy',\n",
       " 'hammer.npy',\n",
       " 'hand.npy',\n",
       " 'harp.npy',\n",
       " 'hat.npy',\n",
       " 'headphones.npy',\n",
       " 'hedgehog.npy',\n",
       " 'helicopter.npy',\n",
       " 'helmet.npy',\n",
       " 'hexagon.npy',\n",
       " 'hockey puck.npy',\n",
       " 'hockey stick.npy',\n",
       " 'horse.npy',\n",
       " 'hospital.npy',\n",
       " 'hot air balloon.npy',\n",
       " 'hot dog.npy',\n",
       " 'hot tub.npy',\n",
       " 'hourglass.npy',\n",
       " 'house plant.npy',\n",
       " 'house.npy',\n",
       " 'hurricane.npy',\n",
       " 'ice cream.npy',\n",
       " 'jacket.npy',\n",
       " 'jail.npy',\n",
       " 'kangaroo.npy',\n",
       " 'key.npy',\n",
       " 'keyboard.npy',\n",
       " 'knee.npy',\n",
       " 'knife.npy',\n",
       " 'ladder.npy',\n",
       " 'lantern.npy',\n",
       " 'laptop.npy',\n",
       " 'leaf.npy',\n",
       " 'leg.npy',\n",
       " 'light bulb.npy',\n",
       " 'lighter.npy',\n",
       " 'lighthouse.npy',\n",
       " 'lightning.npy',\n",
       " 'line.npy',\n",
       " 'lion.npy',\n",
       " 'lipstick.npy',\n",
       " 'lobster.npy',\n",
       " 'lollipop.npy',\n",
       " 'mailbox.npy',\n",
       " 'map.npy',\n",
       " 'marker.npy',\n",
       " 'matches.npy',\n",
       " 'megaphone.npy',\n",
       " 'mermaid.npy',\n",
       " 'microphone.npy',\n",
       " 'microwave.npy',\n",
       " 'monkey.npy',\n",
       " 'moon.npy',\n",
       " 'mosquito.npy',\n",
       " 'motorbike.npy',\n",
       " 'mountain.npy',\n",
       " 'mouse.npy',\n",
       " 'moustache.npy',\n",
       " 'mouth.npy',\n",
       " 'mug.npy',\n",
       " 'mushroom.npy',\n",
       " 'nail.npy',\n",
       " 'necklace.npy',\n",
       " 'nose.npy',\n",
       " 'ocean.npy',\n",
       " 'octagon.npy',\n",
       " 'octopus.npy',\n",
       " 'onion.npy',\n",
       " 'oven.npy',\n",
       " 'owl.npy',\n",
       " 'paint can.npy',\n",
       " 'paintbrush.npy',\n",
       " 'palm tree.npy',\n",
       " 'panda.npy',\n",
       " 'pants.npy',\n",
       " 'paper clip.npy',\n",
       " 'parachute.npy',\n",
       " 'parrot.npy',\n",
       " 'passport.npy',\n",
       " 'peanut.npy',\n",
       " 'pear.npy',\n",
       " 'peas.npy',\n",
       " 'pencil.npy',\n",
       " 'penguin.npy',\n",
       " 'piano.npy',\n",
       " 'pickup truck.npy',\n",
       " 'picture frame.npy',\n",
       " 'pig.npy',\n",
       " 'pillow.npy',\n",
       " 'pineapple.npy',\n",
       " 'pizza.npy',\n",
       " 'pliers.npy',\n",
       " 'police car.npy',\n",
       " 'pond.npy',\n",
       " 'pool.npy',\n",
       " 'popsicle.npy',\n",
       " 'postcard.npy',\n",
       " 'potato.npy',\n",
       " 'power outlet.npy',\n",
       " 'purse.npy',\n",
       " 'rabbit.npy',\n",
       " 'raccoon.npy',\n",
       " 'radio.npy',\n",
       " 'rain.npy',\n",
       " 'rainbow.npy',\n",
       " 'rake.npy',\n",
       " 'remote control.npy',\n",
       " 'rhinoceros.npy',\n",
       " 'rifle.npy',\n",
       " 'river.npy',\n",
       " 'roller coaster.npy',\n",
       " 'rollerskates.npy',\n",
       " 'sailboat.npy',\n",
       " 'sandwich.npy',\n",
       " 'saw.npy',\n",
       " 'saxophone.npy',\n",
       " 'school bus.npy',\n",
       " 'scissors.npy',\n",
       " 'scorpion.npy',\n",
       " 'screwdriver.npy',\n",
       " 'sea turtle.npy',\n",
       " 'see saw.npy',\n",
       " 'shark.npy',\n",
       " 'sheep.npy',\n",
       " 'shoe.npy',\n",
       " 'shorts.npy',\n",
       " 'shovel.npy',\n",
       " 'sink.npy',\n",
       " 'skateboard.npy',\n",
       " 'skull.npy',\n",
       " 'skyscraper.npy',\n",
       " 'sleeping bag.npy',\n",
       " 'smiley face.npy',\n",
       " 'snail.npy',\n",
       " 'snake.npy',\n",
       " 'snorkel.npy',\n",
       " 'snowflake.npy',\n",
       " 'snowman.npy',\n",
       " 'soccer ball.npy',\n",
       " 'sock.npy',\n",
       " 'speedboat.npy',\n",
       " 'spider.npy',\n",
       " 'spoon.npy',\n",
       " 'spreadsheet.npy',\n",
       " 'square.npy',\n",
       " 'squiggle.npy',\n",
       " 'squirrel.npy',\n",
       " 'stairs.npy',\n",
       " 'star.npy',\n",
       " 'steak.npy',\n",
       " 'stereo.npy',\n",
       " 'stethoscope.npy',\n",
       " 'stitches.npy',\n",
       " 'stop sign.npy',\n",
       " 'stove.npy',\n",
       " 'strawberry.npy',\n",
       " 'streetlight.npy',\n",
       " 'string bean.npy',\n",
       " 'submarine.npy',\n",
       " 'suitcase.npy',\n",
       " 'sun.npy',\n",
       " 'swan.npy',\n",
       " 'sweater.npy',\n",
       " 'swing set.npy',\n",
       " 'sword.npy',\n",
       " 'syringe.npy',\n",
       " 't-shirt.npy',\n",
       " 'table.npy',\n",
       " 'teapot.npy',\n",
       " 'teddy-bear.npy',\n",
       " 'telephone.npy',\n",
       " 'television.npy',\n",
       " 'tennis racquet.npy',\n",
       " 'tent.npy',\n",
       " 'The Eiffel Tower.npy',\n",
       " 'The Great Wall of China.npy',\n",
       " 'The Mona Lisa.npy',\n",
       " 'tiger.npy',\n",
       " 'toaster.npy',\n",
       " 'toe.npy',\n",
       " 'toilet.npy',\n",
       " 'tooth.npy',\n",
       " 'toothbrush.npy',\n",
       " 'toothpaste.npy',\n",
       " 'tornado.npy',\n",
       " 'tractor.npy',\n",
       " 'traffic light.npy',\n",
       " 'train.npy',\n",
       " 'tree.npy',\n",
       " 'triangle.npy',\n",
       " 'trombone.npy',\n",
       " 'truck.npy',\n",
       " 'trumpet.npy',\n",
       " 'umbrella.npy',\n",
       " 'underwear.npy',\n",
       " 'van.npy',\n",
       " 'vase.npy',\n",
       " 'violin.npy',\n",
       " 'washing machine.npy',\n",
       " 'watermelon.npy',\n",
       " 'waterslide.npy',\n",
       " 'whale.npy',\n",
       " 'wheel.npy',\n",
       " 'windmill.npy',\n",
       " 'wine bottle.npy',\n",
       " 'wine glass.npy',\n",
       " 'wristwatch.npy',\n",
       " 'yoga.npy',\n",
       " 'zebra.npy',\n",
       " 'zigzag.npy']"
      ]
     },
     "execution_count": 3,
     "metadata": {},
     "output_type": "execute_result"
    }
   ],
   "source": [
    "os.listdir(\"data\")"
   ]
  },
  {
   "cell_type": "code",
   "execution_count": 7,
   "metadata": {},
   "outputs": [],
   "source": [
    "categories = []\n",
    "with open('categories.txt', 'r') as categories_file:\n",
    "    for category in categories_file:\n",
    "        categories.append(category.strip())"
   ]
  },
  {
   "cell_type": "code",
   "execution_count": 1,
   "metadata": {},
   "outputs": [
    {
     "data": {
      "text/plain": [
       "'1.2.1'"
      ]
     },
     "execution_count": 1,
     "metadata": {},
     "output_type": "execute_result"
    }
   ],
   "source": [
    "import scipy\n",
    "scipy.__version__"
   ]
  },
  {
   "cell_type": "code",
   "execution_count": 13,
   "metadata": {},
   "outputs": [],
   "source": [
    "np.random.shuffle(categories)\n",
    "ten_categories = categories[:10]\n"
   ]
  },
  {
   "cell_type": "markdown",
   "metadata": {},
   "source": [
    "Fixed random selection of 10 differrenet categoires"
   ]
  },
  {
   "cell_type": "code",
   "execution_count": 17,
   "metadata": {},
   "outputs": [],
   "source": [
    "ten_categories = ['wristwatch',\n",
    " 'soccer ball',\n",
    " 'flashlight',\n",
    " 'fan',\n",
    " 'binoculars',\n",
    " 'diving board',\n",
    " 'face',\n",
    " 'penguin',\n",
    " 'angel',\n",
    " 'coffee cup']"
   ]
  },
  {
   "cell_type": "code",
   "execution_count": 27,
   "metadata": {},
   "outputs": [],
   "source": [
    "image_set = [np.load('data/'+category+'.npy') for category in ten_categories]\n",
    "for each in image_set:\n",
    "    np.random.shuffle(each)"
   ]
  },
  {
   "cell_type": "code",
   "execution_count": 29,
   "metadata": {},
   "outputs": [
    {
     "name": "stdout",
     "output_type": "stream",
     "text": [
      "For wristwatch there are 162645 images\n",
      "For soccer ball there are 125349 images\n",
      "For flashlight there are 239763 images\n",
      "For fan there are 136158 images\n",
      "For binoculars there are 124190 images\n",
      "For diving board there are 290239 images\n",
      "For face there are 161666 images\n",
      "For penguin there are 253791 images\n",
      "For angel there are 149736 images\n",
      "For coffee cup there are 183432 images\n"
     ]
    }
   ],
   "source": [
    "for i in range(len(image_set)):\n",
    "    print(\"For\",ten_categories[i], \"there are\", image_set[i].shape[0], \"images\")\n",
    "    image_set[i] = image_set[i]/255 < 0.5"
   ]
  },
  {
   "cell_type": "code",
   "execution_count": 36,
   "metadata": {},
   "outputs": [
    {
     "name": "stdout",
     "output_type": "stream",
     "text": [
      "['wristwatch', 'soccer ball', 'flashlight', 'fan', 'binoculars', 'diving board', 'face', 'penguin', 'angel', 'coffee cup']\n"
     ]
    },
    {
     "data": {
      "image/png": "[encoded data removed]",
      "text/plain": [
       "<Figure size 720x720 with 100 Axes>"
      ]
     },
     "metadata": {
      "needs_background": "light"
     },
     "output_type": "display_data"
    }
   ],
   "source": [
    "print(ten_categories)\n",
    "fig=plt.figure(figsize=(10, 10))\n",
    "columns = 10\n",
    "rows = 10\n",
    "for i in range(1, columns*rows +1):\n",
    "    img = image_set[(i-1)%10][i].reshape((28,28))\n",
    "    fig.add_subplot(rows, columns, i)\n",
    "    plt.imshow(img, cmap='gray')\n",
    "    plt.axis('off')\n",
    "plt.show()\n"
   ]
  },
  {
   "cell_type": "code",
   "execution_count": 58,
   "metadata": {},
   "outputs": [],
   "source": [
    "EACH_CATEGORY_IMAGES = 10_000\n",
    "TEST_CATEGORY_IMAGES =  2_000\n",
    "dataset = np.zeros((EACH_CATEGORY_IMAGES*len(image_set), 784+len(image_set)))\n",
    "test_dataset = np.zeros((TEST_CATEGORY_IMAGES*len(image_set), 784+len(image_set)))"
   ]
  },
  {
   "cell_type": "code",
   "execution_count": 59,
   "metadata": {},
   "outputs": [],
   "source": [
    "i = 0\n",
    "for each_set in image_set:\n",
    "    dataset[i*EACH_CATEGORY_IMAGES:(i+1)*EACH_CATEGORY_IMAGES, :784] = each_set[:EACH_CATEGORY_IMAGES]\n",
    "    y = np.zeros((EACH_CATEGORY_IMAGES, 10))\n",
    "    y[:, i] = 1\n",
    "    dataset[i*EACH_CATEGORY_IMAGES:(i+1)*EACH_CATEGORY_IMAGES, 784:] = y\n",
    "    i += 1\n",
    "i = 0\n",
    "for each_set in image_set:\n",
    "    test_dataset[i*TEST_CATEGORY_IMAGES:(i+1)*TEST_CATEGORY_IMAGES, :784] = each_set[EACH_CATEGORY_IMAGES:EACH_CATEGORY_IMAGES+TEST_CATEGORY_IMAGES]\n",
    "    y = np.zeros((TEST_CATEGORY_IMAGES, 10))\n",
    "    y[:, i] = 1\n",
    "    test_dataset[i*TEST_CATEGORY_IMAGES:(i+1)*TEST_CATEGORY_IMAGES, 784:] = y\n",
    "    i += 1"
   ]
  },
  {
   "cell_type": "code",
   "execution_count": 60,
   "metadata": {},
   "outputs": [],
   "source": [
    "np.random.shuffle(dataset)\n",
    "np.random.shuffle(test_dataset)"
   ]
  },
  {
   "cell_type": "code",
   "execution_count": 61,
   "metadata": {},
   "outputs": [
    {
     "name": "stdout",
     "output_type": "stream",
     "text": [
      "soccer ball\n",
      "penguin\n",
      "diving board\n",
      "fan\n",
      "penguin\n",
      "flashlight\n",
      "coffee cup\n",
      "angel\n",
      "penguin\n",
      "face\n"
     ]
    },
    {
     "data": {
      "image/png": "[encoded data removed]",
      "text/plain": [
       "<Figure size 720x720 with 10 Axes>"
      ]
     },
     "metadata": {
      "needs_background": "light"
     },
     "output_type": "display_data"
    }
   ],
   "source": [
    "fig=plt.figure(figsize=(10, 10))\n",
    "columns = 10\n",
    "rows = 1\n",
    "for i in range(1, columns*rows +1):\n",
    "    img = dataset[i][:784].reshape((28,28))\n",
    "    cat = ten_categories[np.argmax(dataset[i][784:])]\n",
    "    print(cat)\n",
    "    fig.add_subplot(rows, columns, i)\n",
    "    plt.imshow(img, cmap='gray')\n",
    "    plt.axis('off')\n",
    "plt.show()\n"
   ]
  },
  {
   "cell_type": "code",
   "execution_count": 62,
   "metadata": {},
   "outputs": [
    {
     "name": "stdout",
     "output_type": "stream",
     "text": [
      "binoculars\n",
      "fan\n",
      "face\n",
      "coffee cup\n",
      "soccer ball\n",
      "binoculars\n",
      "angel\n",
      "binoculars\n",
      "binoculars\n",
      "angel\n"
     ]
    },
    {
     "data": {
      "image/png": "[encoded data removed]",
      "text/plain": [
       "<Figure size 720x720 with 10 Axes>"
      ]
     },
     "metadata": {
      "needs_background": "light"
     },
     "output_type": "display_data"
    }
   ],
   "source": [
    "fig=plt.figure(figsize=(10, 10))\n",
    "columns = 10\n",
    "rows = 1\n",
    "for i in range(1, columns*rows +1):\n",
    "    img = test_dataset[i][:784].reshape((28,28))\n",
    "    cat = ten_categories[np.argmax(test_dataset[i][784:])]\n",
    "    print(cat)\n",
    "    fig.add_subplot(rows, columns, i)\n",
    "    plt.imshow(img, cmap='gray')\n",
    "    plt.axis('off')\n",
    "plt.show()\n"
   ]
  },
  {
   "cell_type": "code",
   "execution_count": 68,
   "metadata": {},
   "outputs": [],
   "source": [
    "X_train = dataset[:, :784]\n",
    "Y_train = dataset[:, 784:]\n",
    "X_test = test_dataset[:, :784]\n",
    "Y_test = test_dataset[:, 784:]"
   ]
  },
  {
   "cell_type": "code",
   "execution_count": 69,
   "metadata": {},
   "outputs": [
    {
     "name": "stdout",
     "output_type": "stream",
     "text": [
      "(100000, 784) (100000, 10)\n",
      "(20000, 784) (20000, 10)\n"
     ]
    }
   ],
   "source": [
    "print(X_train.shape, Y_train.shape)\n",
    "print(X_test.shape, Y_test.shape)"
   ]
  },
  {
   "cell_type": "code",
   "execution_count": 72,
   "metadata": {},
   "outputs": [
    {
     "data": {
      "text/plain": [
       "['.git',\n",
       " '.gitignore',\n",
       " '.ipynb_checkpoints',\n",
       " 'backend',\n",
       " 'categories.txt',\n",
       " 'data',\n",
       " 'dataset_10_cat.npz',\n",
       " 'README.md',\n",
       " 'requirements.txt',\n",
       " 'Understanding & Preparing Data.ipynb']"
      ]
     },
     "execution_count": 72,
     "metadata": {},
     "output_type": "execute_result"
    }
   ],
   "source": [
    "os.listdir()"
   ]
  },
  {
   "cell_type": "code",
   "execution_count": 80,
   "metadata": {},
   "outputs": [],
   "source": [
    "#os.mkdir(\"dataset\")"
   ]
  },
  {
   "cell_type": "code",
   "execution_count": 89,
   "metadata": {},
   "outputs": [],
   "source": [
    "for i in range(0, len(image_set)*EACH_CATEGORY_IMAGES, 2000):\n",
    "    X_train = dataset[i:i+2000, :784]\n",
    "    Y_train = dataset[i:i+2000, 784:]\n",
    "    np.savez(\"dataset/train_set_\"+str(int(i/2000))+\".npz\", X_train=X_train, Y_train=Y_train)\n",
    "for i in range(0, len(image_set)*TEST_CATEGORY_IMAGES,TEST_CATEGORY_IMAGES):\n",
    "    X_test = test_dataset[i:i+TEST_CATEGORY_IMAGES, :784]\n",
    "    Y_test = test_dataset[i:i+TEST_CATEGORY_IMAGES, 784:]\n",
    "    np.savez(\"dataset/test_set_\"+str(int(i/TEST_CATEGORY_IMAGES))+\".npz\", X_test=X_test, Y_test=Y_test)"
   ]
  },
  {
   "cell_type": "code",
   "execution_count": 90,
   "metadata": {},
   "outputs": [],
   "source": [
    "np.savez(\"dataset/categories.npz\", categories=ten_categories)"
   ]
  },
  {
   "cell_type": "code",
   "execution_count": null,
   "metadata": {},
   "outputs": [],
   "source": []
  }
 ],
 "metadata": {
  "kernelspec": {
   "display_name": "Python 3",
   "language": "python",
   "name": "python3"
  },
  "language_info": {
   "codemirror_mode": {
    "name": "ipython",
    "version": 3
   },
   "file_extension": ".py",
   "mimetype": "text/x-python",
   "name": "python",
   "nbconvert_exporter": "python",
   "pygments_lexer": "ipython3",
   "version": "3.7.3"
  }
 },
 "nbformat": 4,
 "nbformat_minor": 2
}
